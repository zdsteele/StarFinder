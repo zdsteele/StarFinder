{
 "cells": [
  {
   "cell_type": "markdown",
   "metadata": {},
   "source": [
    "# Dependencies and Reading Raw Data"
   ]
  },
  {
   "cell_type": "code",
   "execution_count": 1,
   "metadata": {},
   "outputs": [],
   "source": [
    "import pandas as pd\n",
    "import sklearn\n",
    "import numpy as np\n",
    "\n",
    "# To plot pretty figures\n",
    "%matplotlib inline\n",
    "import matplotlib as mpl\n",
    "import matplotlib.pyplot as plt\n",
    "mpl.rc('axes', labelsize=14)\n",
    "mpl.rc('xtick', labelsize=12)\n",
    "mpl.rc('ytick', labelsize=12)"
   ]
  },
  {
   "cell_type": "code",
   "execution_count": 2,
   "metadata": {},
   "outputs": [
    {
     "data": {
      "text/html": [
       "<div>\n",
       "<style scoped>\n",
       "    .dataframe tbody tr th:only-of-type {\n",
       "        vertical-align: middle;\n",
       "    }\n",
       "\n",
       "    .dataframe tbody tr th {\n",
       "        vertical-align: top;\n",
       "    }\n",
       "\n",
       "    .dataframe thead th {\n",
       "        text-align: right;\n",
       "    }\n",
       "</style>\n",
       "<table border=\"1\" class=\"dataframe\">\n",
       "  <thead>\n",
       "    <tr style=\"text-align: right;\">\n",
       "      <th></th>\n",
       "      <th>objid</th>\n",
       "      <th>ra</th>\n",
       "      <th>dec</th>\n",
       "      <th>u</th>\n",
       "      <th>g</th>\n",
       "      <th>r</th>\n",
       "      <th>i</th>\n",
       "      <th>z</th>\n",
       "      <th>run</th>\n",
       "      <th>rerun</th>\n",
       "      <th>camcol</th>\n",
       "      <th>field</th>\n",
       "      <th>specobjid</th>\n",
       "      <th>class</th>\n",
       "      <th>redshift</th>\n",
       "      <th>plate</th>\n",
       "      <th>mjd</th>\n",
       "      <th>fiberid</th>\n",
       "    </tr>\n",
       "  </thead>\n",
       "  <tbody>\n",
       "    <tr>\n",
       "      <th>0</th>\n",
       "      <td>1237666301628060000</td>\n",
       "      <td>47.372545</td>\n",
       "      <td>0.820621</td>\n",
       "      <td>18.69254</td>\n",
       "      <td>17.13867</td>\n",
       "      <td>16.55555</td>\n",
       "      <td>16.34662</td>\n",
       "      <td>16.17639</td>\n",
       "      <td>4849</td>\n",
       "      <td>301</td>\n",
       "      <td>5</td>\n",
       "      <td>771</td>\n",
       "      <td>8168632633242440000</td>\n",
       "      <td>STAR</td>\n",
       "      <td>0.000115</td>\n",
       "      <td>7255</td>\n",
       "      <td>56597</td>\n",
       "      <td>832</td>\n",
       "    </tr>\n",
       "    <tr>\n",
       "      <th>1</th>\n",
       "      <td>1237673706652430000</td>\n",
       "      <td>116.303083</td>\n",
       "      <td>42.455980</td>\n",
       "      <td>18.47633</td>\n",
       "      <td>17.30546</td>\n",
       "      <td>17.24116</td>\n",
       "      <td>17.32780</td>\n",
       "      <td>17.37114</td>\n",
       "      <td>6573</td>\n",
       "      <td>301</td>\n",
       "      <td>6</td>\n",
       "      <td>220</td>\n",
       "      <td>9333948945297330000</td>\n",
       "      <td>STAR</td>\n",
       "      <td>-0.000093</td>\n",
       "      <td>8290</td>\n",
       "      <td>57364</td>\n",
       "      <td>868</td>\n",
       "    </tr>\n",
       "    <tr>\n",
       "      <th>2</th>\n",
       "      <td>1237671126974140000</td>\n",
       "      <td>172.756623</td>\n",
       "      <td>-8.785698</td>\n",
       "      <td>16.47714</td>\n",
       "      <td>15.31072</td>\n",
       "      <td>15.55971</td>\n",
       "      <td>15.72207</td>\n",
       "      <td>15.82471</td>\n",
       "      <td>5973</td>\n",
       "      <td>301</td>\n",
       "      <td>1</td>\n",
       "      <td>13</td>\n",
       "      <td>3221211255238850000</td>\n",
       "      <td>STAR</td>\n",
       "      <td>0.000165</td>\n",
       "      <td>2861</td>\n",
       "      <td>54583</td>\n",
       "      <td>42</td>\n",
       "    </tr>\n",
       "    <tr>\n",
       "      <th>3</th>\n",
       "      <td>1237665441518260000</td>\n",
       "      <td>201.224207</td>\n",
       "      <td>28.771290</td>\n",
       "      <td>18.63561</td>\n",
       "      <td>16.88346</td>\n",
       "      <td>16.09825</td>\n",
       "      <td>15.70987</td>\n",
       "      <td>15.43491</td>\n",
       "      <td>4649</td>\n",
       "      <td>301</td>\n",
       "      <td>3</td>\n",
       "      <td>121</td>\n",
       "      <td>2254061292459420000</td>\n",
       "      <td>GALAXY</td>\n",
       "      <td>0.058155</td>\n",
       "      <td>2002</td>\n",
       "      <td>53471</td>\n",
       "      <td>35</td>\n",
       "    </tr>\n",
       "    <tr>\n",
       "      <th>4</th>\n",
       "      <td>1237665441522840000</td>\n",
       "      <td>212.817222</td>\n",
       "      <td>26.625225</td>\n",
       "      <td>18.88325</td>\n",
       "      <td>17.87948</td>\n",
       "      <td>17.47037</td>\n",
       "      <td>17.17441</td>\n",
       "      <td>17.05235</td>\n",
       "      <td>4649</td>\n",
       "      <td>301</td>\n",
       "      <td>3</td>\n",
       "      <td>191</td>\n",
       "      <td>2390305906828010000</td>\n",
       "      <td>GALAXY</td>\n",
       "      <td>0.072210</td>\n",
       "      <td>2123</td>\n",
       "      <td>53793</td>\n",
       "      <td>74</td>\n",
       "    </tr>\n",
       "  </tbody>\n",
       "</table>\n",
       "</div>"
      ],
      "text/plain": [
       "                 objid          ra        dec         u         g         r  \\\n",
       "0  1237666301628060000   47.372545   0.820621  18.69254  17.13867  16.55555   \n",
       "1  1237673706652430000  116.303083  42.455980  18.47633  17.30546  17.24116   \n",
       "2  1237671126974140000  172.756623  -8.785698  16.47714  15.31072  15.55971   \n",
       "3  1237665441518260000  201.224207  28.771290  18.63561  16.88346  16.09825   \n",
       "4  1237665441522840000  212.817222  26.625225  18.88325  17.87948  17.47037   \n",
       "\n",
       "          i         z   run  rerun  camcol  field            specobjid  \\\n",
       "0  16.34662  16.17639  4849    301       5    771  8168632633242440000   \n",
       "1  17.32780  17.37114  6573    301       6    220  9333948945297330000   \n",
       "2  15.72207  15.82471  5973    301       1     13  3221211255238850000   \n",
       "3  15.70987  15.43491  4649    301       3    121  2254061292459420000   \n",
       "4  17.17441  17.05235  4649    301       3    191  2390305906828010000   \n",
       "\n",
       "    class  redshift  plate    mjd  fiberid  \n",
       "0    STAR  0.000115   7255  56597      832  \n",
       "1    STAR -0.000093   8290  57364      868  \n",
       "2    STAR  0.000165   2861  54583       42  \n",
       "3  GALAXY  0.058155   2002  53471       35  \n",
       "4  GALAXY  0.072210   2123  53793       74  "
      ]
     },
     "execution_count": 2,
     "metadata": {},
     "output_type": "execute_result"
    }
   ],
   "source": [
    "# Raw Data \n",
    "astro_df = pd.read_csv('Skyserver_2019.csv')\n",
    "astro_df.head()"
   ]
  },
  {
   "cell_type": "code",
   "execution_count": 3,
   "metadata": {},
   "outputs": [],
   "source": [
    "# Removing useless columns for ML analysis.\n",
    "astro_df = astro_df[['ra', 'dec', 'u', 'g', 'r', 'i', 'z', 'redshift', 'class']]"
   ]
  },
  {
   "cell_type": "markdown",
   "metadata": {},
   "source": [
    "# Separating Training and Test Data"
   ]
  },
  {
   "cell_type": "markdown",
   "metadata": {},
   "source": [
    "# Stratifying Data Based on Redshift (assumption that redshift is important!)"
   ]
  },
  {
   "cell_type": "code",
   "execution_count": 4,
   "metadata": {},
   "outputs": [
    {
     "data": {
      "text/plain": [
       "<AxesSubplot:>"
      ]
     },
     "execution_count": 4,
     "metadata": {},
     "output_type": "execute_result"
    },
    {
     "data": {
      "image/png": "[encoded data removed]",
      "text/plain": [
       "<Figure size 432x288 with 1 Axes>"
      ]
     },
     "metadata": {
      "needs_background": "light"
     },
     "output_type": "display_data"
    }
   ],
   "source": [
    "astro_df['redshift'].hist()"
   ]
  },
  {
   "cell_type": "code",
   "execution_count": 5,
   "metadata": {},
   "outputs": [],
   "source": [
    "astro_df[\"redshift_cat\"] = pd.cut(astro_df[\"redshift\"],\n",
    "                               bins=[-1, 0., .5, 1.0, 1.5, 2.0, 2.5, np.inf],\n",
    "                               labels=[-1, 0, 1, 2, 3, 4, 5])"
   ]
  },
  {
   "cell_type": "code",
   "execution_count": 6,
   "metadata": {},
   "outputs": [
    {
     "data": {
      "text/plain": [
       "0     66391\n",
       "-1    24938\n",
       "2      2825\n",
       "3      2464\n",
       "1      2071\n",
       "4      1011\n",
       "5       300\n",
       "Name: redshift_cat, dtype: int64"
      ]
     },
     "execution_count": 6,
     "metadata": {},
     "output_type": "execute_result"
    }
   ],
   "source": [
    "astro_df['redshift_cat'].value_counts()"
   ]
  },
  {
   "cell_type": "code",
   "execution_count": 7,
   "metadata": {},
   "outputs": [
    {
     "data": {
      "text/plain": [
       "<AxesSubplot:>"
      ]
     },
     "execution_count": 7,
     "metadata": {},
     "output_type": "execute_result"
    },
    {
     "data": {
      "image/png": "[encoded data removed]",
      "text/plain": [
       "<Figure size 432x288 with 1 Axes>"
      ]
     },
     "metadata": {
      "needs_background": "light"
     },
     "output_type": "display_data"
    }
   ],
   "source": [
    "astro_df['redshift_cat'].hist()"
   ]
  },
  {
   "cell_type": "code",
   "execution_count": 8,
   "metadata": {},
   "outputs": [],
   "source": [
    "from sklearn.model_selection import train_test_split\n",
    "train_set, test_set = train_test_split(astro_df, test_size=0.2, random_state=42, stratify=astro_df['redshift_cat']) "
   ]
  },
  {
   "cell_type": "code",
   "execution_count": 9,
   "metadata": {},
   "outputs": [],
   "source": [
    "# Using Sklearn's Statify Method \n",
    "\n",
    "# from sklearn.model_selection import StratifiedShuffleSplit\n",
    "\n",
    "# split = StratifiedShuffleSplit(n_splits=1, test_size=0.2, random_state=42)\n",
    "# for train_index, test_index in split.split(astro_df, astro_df['redshift_cat']):\n",
    "    \n",
    "#     strat_train_set = astro_df.loc[train_index]\n",
    "#     strat_test_set = astro_df.loc[test_index]"
   ]
  },
  {
   "cell_type": "code",
   "execution_count": 10,
   "metadata": {},
   "outputs": [
    {
     "name": "stderr",
     "output_type": "stream",
     "text": [
      "C:\\ProgramData\\Anaconda3\\lib\\site-packages\\pandas\\core\\frame.py:4170: SettingWithCopyWarning: \n",
      "A value is trying to be set on a copy of a slice from a DataFrame\n",
      "\n",
      "See the caveats in the documentation: https://pandas.pydata.org/pandas-docs/stable/user_guide/indexing.html#returning-a-view-versus-a-copy\n",
      "  errors=errors,\n"
     ]
    }
   ],
   "source": [
    "# Now that we have stratified our data based on redshift vales, we can drop the redshift category column.\n",
    "# strat_train_set.drop(['redshift_cat'], axis=1, inplace=True)\n",
    "# strat_test_set.drop(['redshift_cat'], axis=1, inplace=True)\n",
    "\n",
    "train_set.drop(['redshift_cat'], axis=1, inplace=True)\n",
    "test_set.drop(['redshift_cat'], axis=1, inplace=True)\n"
   ]
  },
  {
   "cell_type": "markdown",
   "metadata": {},
   "source": [
    "# Data Cleaning and Preperation for ML Algorithms"
   ]
  },
  {
   "cell_type": "code",
   "execution_count": 11,
   "metadata": {},
   "outputs": [],
   "source": [
    "# Separating Independant from Dependant Variables\n",
    "# astro_data = strat_train_set.drop(\"class\", axis=1) # X\n",
    "# astro_labels = strat_train_set[\"class\"] # Y\n",
    "\n",
    "x_train = train_set.drop(\"class\", axis=1)\n",
    "y_train = train_set[\"class\"]"
   ]
  },
  {
   "cell_type": "code",
   "execution_count": 12,
   "metadata": {},
   "outputs": [],
   "source": [
    "# from sklearn.preprocessing import LabelEncoder\n",
    "\n",
    "# cat_encoder = LabelEncoder()\n",
    "# astro_labels = cat_encoder.fit_transform(astro_labels)\n",
    "# astro_labels"
   ]
  },
  {
   "cell_type": "code",
   "execution_count": 13,
   "metadata": {},
   "outputs": [],
   "source": [
    "# Will have to One Hot Encode the Dependant var\n",
    "# from sklearn.preprocessing import OneHotEncoder\n",
    "\n",
    "# cat_encoder = OneHotEncoder()\n",
    "# astro_cat_1hot = cat_encoder.fit_transform(astro_labels.reshape(-1,1))\n",
    "# astro_cat_1hot"
   ]
  },
  {
   "cell_type": "code",
   "execution_count": 14,
   "metadata": {},
   "outputs": [],
   "source": [
    "# Will use Standardized Scaler for Independant vars\n",
    "from sklearn.pipeline import Pipeline\n",
    "from sklearn.preprocessing import StandardScaler\n",
    "from sklearn.compose import ColumnTransformer\n",
    "\n",
    "num_pipeline = Pipeline([\n",
    "        ('std_scaler', StandardScaler()),\n",
    "    ])\n",
    "\n",
    "x_train_prepared = num_pipeline.fit_transform(x_train)\n",
    "\n",
    "\n",
    "# num_attribs = list(x_train_numbers)\n",
    "\n",
    "\n",
    "# full_pipeline = ColumnTransformer([\n",
    "#         (\"num\", num_pipeline, num_attribs)\n",
    "#     ])\n",
    "\n",
    "# x_train_prepared = full_pipeline.fit_transform(x_train)\n",
    "\n",
    "\n",
    "\n",
    "\n"
   ]
  },
  {
   "cell_type": "markdown",
   "metadata": {},
   "source": [
    "# Models"
   ]
  },
  {
   "cell_type": "markdown",
   "metadata": {},
   "source": [
    "# SGD Classifier"
   ]
  },
  {
   "cell_type": "code",
   "execution_count": 15,
   "metadata": {},
   "outputs": [
    {
     "data": {
      "text/plain": [
       "SGDClassifier(loss='log', random_state=42)"
      ]
     },
     "execution_count": 15,
     "metadata": {},
     "output_type": "execute_result"
    }
   ],
   "source": [
    "from sklearn.linear_model import SGDClassifier\n",
    "\n",
    "sgd_classifier = SGDClassifier(random_state=42, loss='log')\n",
    "sgd_classifier.fit(x_train_prepared, y_train)"
   ]
  },
  {
   "cell_type": "code",
   "execution_count": 16,
   "metadata": {},
   "outputs": [
    {
     "data": {
      "text/plain": [
       "array([0.94798815, 0.94708816, 0.94738618])"
      ]
     },
     "execution_count": 16,
     "metadata": {},
     "output_type": "execute_result"
    }
   ],
   "source": [
    "# Score on the trained dataset \n",
    "from sklearn.model_selection import cross_val_score\n",
    "cross_val_score(sgd_classifier, x_train_prepared, y_train, cv=3, scoring=\"accuracy\")"
   ]
  },
  {
   "cell_type": "code",
   "execution_count": 53,
   "metadata": {},
   "outputs": [],
   "source": [
    "# Looking at the Confusion Matrix\n",
    "\n",
    "from sklearn.model_selection import cross_val_predict\n",
    "from sklearn.metrics import confusion_matrix\n",
    "y_train_predictions = cross_val_predict(sgd_classifier, x_train_prepared, y_train, cv=3)\n",
    "\n",
    "labels = np.unique(y_train)\n",
    "\n",
    "cm = confusion_matrix(y_train, y_train_predictions, labels=labels)\n",
    "\n",
    "\n",
    "sgd_df = pd.DataFrame(cm, index=labels, columns=labels)"
   ]
  },
  {
   "cell_type": "code",
   "execution_count": 54,
   "metadata": {},
   "outputs": [
    {
     "data": {
      "text/html": [
       "<div>\n",
       "<style scoped>\n",
       "    .dataframe tbody tr th:only-of-type {\n",
       "        vertical-align: middle;\n",
       "    }\n",
       "\n",
       "    .dataframe tbody tr th {\n",
       "        vertical-align: top;\n",
       "    }\n",
       "\n",
       "    .dataframe thead th {\n",
       "        text-align: right;\n",
       "    }\n",
       "</style>\n",
       "<table border=\"1\" class=\"dataframe\">\n",
       "  <thead>\n",
       "    <tr style=\"text-align: right;\">\n",
       "      <th></th>\n",
       "      <th>GALAXY</th>\n",
       "      <th>QSO</th>\n",
       "      <th>STAR</th>\n",
       "    </tr>\n",
       "  </thead>\n",
       "  <tbody>\n",
       "    <tr>\n",
       "      <th>GALAXY</th>\n",
       "      <td>38702</td>\n",
       "      <td>118</td>\n",
       "      <td>2211</td>\n",
       "    </tr>\n",
       "    <tr>\n",
       "      <th>QSO</th>\n",
       "      <td>958</td>\n",
       "      <td>7513</td>\n",
       "      <td>7</td>\n",
       "    </tr>\n",
       "    <tr>\n",
       "      <th>STAR</th>\n",
       "      <td>889</td>\n",
       "      <td>18</td>\n",
       "      <td>29584</td>\n",
       "    </tr>\n",
       "  </tbody>\n",
       "</table>\n",
       "</div>"
      ],
      "text/plain": [
       "        GALAXY   QSO   STAR\n",
       "GALAXY   38702   118   2211\n",
       "QSO        958  7513      7\n",
       "STAR       889    18  29584"
      ]
     },
     "execution_count": 54,
     "metadata": {},
     "output_type": "execute_result"
    }
   ],
   "source": [
    "sgd_df"
   ]
  },
  {
   "cell_type": "code",
   "execution_count": 55,
   "metadata": {},
   "outputs": [],
   "source": [
    "sgd_df.to_csv('sgd_confusion.csv')"
   ]
  },
  {
   "cell_type": "code",
   "execution_count": 19,
   "metadata": {},
   "outputs": [],
   "source": [
    "# from sklearn.metrics import f1_score\n",
    "\n",
    "# f1_score(astro_labels, y_train_pred, average='micro')"
   ]
  },
  {
   "cell_type": "code",
   "execution_count": 20,
   "metadata": {},
   "outputs": [],
   "source": [
    "# from sklearn.model_selection import GridSearchCV\n",
    "\n",
    "# grid = {\n",
    "#     'max_iter': [1000],\n",
    "#     'penalty': [None, 'l2', 'l1', 'elasticnet'],\n",
    "#     'eta0': [0, 0.1]\n",
    "# }\n",
    "\n",
    "# grid_search = GridSearchCV(sgd_classifier, grid, cv=5, verbose=3)\n",
    "\n",
    "\n",
    "\n",
    "# grid_search.fit(astro_data_scaled, astro_labels)\n",
    "#grid_search.best_params_"
   ]
  },
  {
   "cell_type": "code",
   "execution_count": 21,
   "metadata": {},
   "outputs": [],
   "source": [
    "# y_train_pred = cross_val_predict(grid_search, astro_data_scaled, astro_labels, cv=3)"
   ]
  },
  {
   "cell_type": "code",
   "execution_count": 22,
   "metadata": {},
   "outputs": [],
   "source": [
    "# cm = confusion_matrix(astro_labels, y_train_pred)"
   ]
  },
  {
   "cell_type": "code",
   "execution_count": 23,
   "metadata": {},
   "outputs": [],
   "source": [
    "# Better f1 score\n",
    "# f1_score(astro_labels, y_train_pred, average='micro')"
   ]
  },
  {
   "cell_type": "code",
   "execution_count": 24,
   "metadata": {},
   "outputs": [],
   "source": [
    "# Better Confusion Matrix With Hyper Tuned Parameters\n",
    "\n",
    "# labels = np.unique(y_train_pred)\n",
    "# pd.DataFrame(cm, index=labels, columns=labels)"
   ]
  },
  {
   "cell_type": "markdown",
   "metadata": {},
   "source": [
    "# Logistic Regression (OVR)"
   ]
  },
  {
   "cell_type": "code",
   "execution_count": 25,
   "metadata": {},
   "outputs": [
    {
     "data": {
      "text/plain": [
       "LogisticRegression(multi_class='ovr')"
      ]
     },
     "execution_count": 25,
     "metadata": {},
     "output_type": "execute_result"
    }
   ],
   "source": [
    "from sklearn.linear_model import LogisticRegression\n",
    "\n",
    "log_reg = LogisticRegression(multi_class='ovr')\n",
    "log_reg.fit(x_train_prepared, y_train)\n",
    "\n"
   ]
  },
  {
   "cell_type": "code",
   "execution_count": 26,
   "metadata": {},
   "outputs": [
    {
     "data": {
      "text/html": [
       "<div>\n",
       "<style scoped>\n",
       "    .dataframe tbody tr th:only-of-type {\n",
       "        vertical-align: middle;\n",
       "    }\n",
       "\n",
       "    .dataframe tbody tr th {\n",
       "        vertical-align: top;\n",
       "    }\n",
       "\n",
       "    .dataframe thead th {\n",
       "        text-align: right;\n",
       "    }\n",
       "</style>\n",
       "<table border=\"1\" class=\"dataframe\">\n",
       "  <thead>\n",
       "    <tr style=\"text-align: right;\">\n",
       "      <th></th>\n",
       "      <th>GALAXY</th>\n",
       "      <th>QSO</th>\n",
       "      <th>STAR</th>\n",
       "    </tr>\n",
       "  </thead>\n",
       "  <tbody>\n",
       "    <tr>\n",
       "      <th>GALAXY</th>\n",
       "      <td>39326</td>\n",
       "      <td>127</td>\n",
       "      <td>1578</td>\n",
       "    </tr>\n",
       "    <tr>\n",
       "      <th>QSO</th>\n",
       "      <td>939</td>\n",
       "      <td>7532</td>\n",
       "      <td>7</td>\n",
       "    </tr>\n",
       "    <tr>\n",
       "      <th>STAR</th>\n",
       "      <td>574</td>\n",
       "      <td>19</td>\n",
       "      <td>29898</td>\n",
       "    </tr>\n",
       "  </tbody>\n",
       "</table>\n",
       "</div>"
      ],
      "text/plain": [
       "        GALAXY   QSO   STAR\n",
       "GALAXY   39326   127   1578\n",
       "QSO        939  7532      7\n",
       "STAR       574    19  29898"
      ]
     },
     "execution_count": 26,
     "metadata": {},
     "output_type": "execute_result"
    }
   ],
   "source": [
    "y_train_predictions = cross_val_predict(log_reg, x_train_prepared, y_train, cv=3)\n",
    "\n",
    "labels = np.unique(y_train)\n",
    "\n",
    "cm = confusion_matrix(y_train, y_train_predictions, labels=labels)\n",
    "pd.DataFrame(cm, index=labels, columns=labels)"
   ]
  },
  {
   "cell_type": "markdown",
   "metadata": {},
   "source": [
    "# Support Vector Machine"
   ]
  },
  {
   "cell_type": "code",
   "execution_count": 27,
   "metadata": {},
   "outputs": [],
   "source": [
    "# from sklearn.svm import LinearSVC\n",
    "\n",
    "# svm_clf = LinearSVC(C=1, loss=\"hinge\", max_iter=30000)\n",
    "\n",
    "\n",
    "# svm_clf.fit(astro_data_scaled, astro_labels)"
   ]
  },
  {
   "cell_type": "code",
   "execution_count": 28,
   "metadata": {},
   "outputs": [],
   "source": [
    "# from sklearn.pipeline import Pipeline\n",
    "# from sklearn.preprocessing import PolynomialFeatures\n",
    "\n",
    "# polynomial_svm_clf = Pipeline([\n",
    "#     (\"poly_features\", PolynomialFeatures(degree=3)),\n",
    "#     (\"svm_clf\", LinearSVC(C=10, loss=\"hinge\"))\n",
    "    \n",
    "# ])\n",
    "\n",
    "# polynomial_svm_clf.fit(astro_data_scaled, astro_labels)"
   ]
  },
  {
   "cell_type": "code",
   "execution_count": 29,
   "metadata": {},
   "outputs": [
    {
     "data": {
      "text/plain": [
       "Pipeline(steps=[('svm_clf',\n",
       "                 SVC(C=5, coef0=1, kernel='poly', probability=True))])"
      ]
     },
     "execution_count": 29,
     "metadata": {},
     "output_type": "execute_result"
    }
   ],
   "source": [
    "from sklearn.svm import SVC\n",
    "\n",
    "poly_kernel_svm_clf = Pipeline([\n",
    "    \n",
    "    (\"svm_clf\", SVC(kernel=\"poly\", degree=3, coef0=1, C=5, probability=True))\n",
    "])\n",
    "\n",
    "poly_kernel_svm_clf.fit(x_train_prepared, y_train)\n"
   ]
  },
  {
   "cell_type": "code",
   "execution_count": 30,
   "metadata": {},
   "outputs": [
    {
     "data": {
      "text/html": [
       "<div>\n",
       "<style scoped>\n",
       "    .dataframe tbody tr th:only-of-type {\n",
       "        vertical-align: middle;\n",
       "    }\n",
       "\n",
       "    .dataframe tbody tr th {\n",
       "        vertical-align: top;\n",
       "    }\n",
       "\n",
       "    .dataframe thead th {\n",
       "        text-align: right;\n",
       "    }\n",
       "</style>\n",
       "<table border=\"1\" class=\"dataframe\">\n",
       "  <thead>\n",
       "    <tr style=\"text-align: right;\">\n",
       "      <th></th>\n",
       "      <th>GALAXY</th>\n",
       "      <th>QSO</th>\n",
       "      <th>STAR</th>\n",
       "    </tr>\n",
       "  </thead>\n",
       "  <tbody>\n",
       "    <tr>\n",
       "      <th>GALAXY</th>\n",
       "      <td>40270</td>\n",
       "      <td>110</td>\n",
       "      <td>651</td>\n",
       "    </tr>\n",
       "    <tr>\n",
       "      <th>QSO</th>\n",
       "      <td>394</td>\n",
       "      <td>8078</td>\n",
       "      <td>6</td>\n",
       "    </tr>\n",
       "    <tr>\n",
       "      <th>STAR</th>\n",
       "      <td>19</td>\n",
       "      <td>0</td>\n",
       "      <td>30472</td>\n",
       "    </tr>\n",
       "  </tbody>\n",
       "</table>\n",
       "</div>"
      ],
      "text/plain": [
       "        GALAXY   QSO   STAR\n",
       "GALAXY   40270   110    651\n",
       "QSO        394  8078      6\n",
       "STAR        19     0  30472"
      ]
     },
     "execution_count": 30,
     "metadata": {},
     "output_type": "execute_result"
    }
   ],
   "source": [
    "y_train_predictions = cross_val_predict(poly_kernel_svm_clf, x_train_prepared, y_train, cv=3)\n",
    "\n",
    "labels = np.unique(y_train)\n",
    "\n",
    "cm = confusion_matrix(y_train, y_train_predictions, labels=labels)\n",
    "pd.DataFrame(cm, index=labels, columns=labels)"
   ]
  },
  {
   "cell_type": "markdown",
   "metadata": {},
   "source": [
    "# Random Forrest Classifier\n",
    "\n",
    "\n",
    "\n",
    "\n"
   ]
  },
  {
   "cell_type": "code",
   "execution_count": 31,
   "metadata": {},
   "outputs": [],
   "source": [
    "# from sklearn.preprocessing import LabelEncoder\n",
    "\n",
    "# cat_encoder = LabelEncoder()\n",
    "# astro_labels = cat_encoder.fit_transform(astro_labels)\n",
    "# astro_labels"
   ]
  },
  {
   "cell_type": "code",
   "execution_count": 32,
   "metadata": {},
   "outputs": [],
   "source": [
    "# cat_encoder.classes_"
   ]
  },
  {
   "cell_type": "code",
   "execution_count": 33,
   "metadata": {},
   "outputs": [
    {
     "data": {
      "text/plain": [
       "RandomForestClassifier(random_state=42)"
      ]
     },
     "execution_count": 33,
     "metadata": {},
     "output_type": "execute_result"
    }
   ],
   "source": [
    "from sklearn.ensemble import RandomForestClassifier\n",
    "\n",
    "forest_clf = RandomForestClassifier(n_estimators=100, random_state=42)\n",
    "forest_clf.fit(x_train_prepared, y_train)"
   ]
  },
  {
   "cell_type": "code",
   "execution_count": 34,
   "metadata": {},
   "outputs": [
    {
     "data": {
      "text/html": [
       "<div>\n",
       "<style scoped>\n",
       "    .dataframe tbody tr th:only-of-type {\n",
       "        vertical-align: middle;\n",
       "    }\n",
       "\n",
       "    .dataframe tbody tr th {\n",
       "        vertical-align: top;\n",
       "    }\n",
       "\n",
       "    .dataframe thead th {\n",
       "        text-align: right;\n",
       "    }\n",
       "</style>\n",
       "<table border=\"1\" class=\"dataframe\">\n",
       "  <thead>\n",
       "    <tr style=\"text-align: right;\">\n",
       "      <th></th>\n",
       "      <th>GALAXY</th>\n",
       "      <th>QSO</th>\n",
       "      <th>STAR</th>\n",
       "    </tr>\n",
       "  </thead>\n",
       "  <tbody>\n",
       "    <tr>\n",
       "      <th>GALAXY</th>\n",
       "      <td>40804</td>\n",
       "      <td>146</td>\n",
       "      <td>81</td>\n",
       "    </tr>\n",
       "    <tr>\n",
       "      <th>QSO</th>\n",
       "      <td>456</td>\n",
       "      <td>8016</td>\n",
       "      <td>6</td>\n",
       "    </tr>\n",
       "    <tr>\n",
       "      <th>STAR</th>\n",
       "      <td>36</td>\n",
       "      <td>0</td>\n",
       "      <td>30455</td>\n",
       "    </tr>\n",
       "  </tbody>\n",
       "</table>\n",
       "</div>"
      ],
      "text/plain": [
       "        GALAXY   QSO   STAR\n",
       "GALAXY   40804   146     81\n",
       "QSO        456  8016      6\n",
       "STAR        36     0  30455"
      ]
     },
     "execution_count": 34,
     "metadata": {},
     "output_type": "execute_result"
    }
   ],
   "source": [
    "y_train_predictions = cross_val_predict(forest_clf, x_train_prepared, y_train, cv=3)\n",
    "\n",
    "labels = np.unique(y_train)\n",
    "\n",
    "cm = confusion_matrix(y_train, y_train_predictions, labels=labels)\n",
    "pd.DataFrame(cm, index=labels, columns=labels)"
   ]
  },
  {
   "cell_type": "code",
   "execution_count": 41,
   "metadata": {},
   "outputs": [
    {
     "name": "stdout",
     "output_type": "stream",
     "text": [
      "Fitting 5 folds for each of 15 candidates, totalling 75 fits\n",
      "[CV] criterion=gini, max_depth=None, n_estimators=100 ................\n"
     ]
    },
    {
     "name": "stderr",
     "output_type": "stream",
     "text": [
      "[Parallel(n_jobs=1)]: Using backend SequentialBackend with 1 concurrent workers.\n"
     ]
    },
    {
     "name": "stdout",
     "output_type": "stream",
     "text": [
      "[CV]  criterion=gini, max_depth=None, n_estimators=100, score=0.992, total=  11.1s\n",
      "[CV] criterion=gini, max_depth=None, n_estimators=100 ................\n"
     ]
    },
    {
     "name": "stderr",
     "output_type": "stream",
     "text": [
      "[Parallel(n_jobs=1)]: Done   1 out of   1 | elapsed:   11.0s remaining:    0.0s\n"
     ]
    },
    {
     "name": "stdout",
     "output_type": "stream",
     "text": [
      "[CV]  criterion=gini, max_depth=None, n_estimators=100, score=0.991, total=  11.2s\n",
      "[CV] criterion=gini, max_depth=None, n_estimators=100 ................\n"
     ]
    },
    {
     "name": "stderr",
     "output_type": "stream",
     "text": [
      "[Parallel(n_jobs=1)]: Done   2 out of   2 | elapsed:   22.2s remaining:    0.0s\n"
     ]
    },
    {
     "name": "stdout",
     "output_type": "stream",
     "text": [
      "[CV]  criterion=gini, max_depth=None, n_estimators=100, score=0.990, total=  11.6s\n",
      "[CV] criterion=gini, max_depth=None, n_estimators=100 ................\n",
      "[CV]  criterion=gini, max_depth=None, n_estimators=100, score=0.992, total=  11.1s\n",
      "[CV] criterion=gini, max_depth=None, n_estimators=100 ................\n",
      "[CV]  criterion=gini, max_depth=None, n_estimators=100, score=0.991, total=  11.2s\n",
      "[CV] criterion=gini, max_depth=None, n_estimators=200 ................\n",
      "[CV]  criterion=gini, max_depth=None, n_estimators=200, score=0.992, total=  23.3s\n",
      "[CV] criterion=gini, max_depth=None, n_estimators=200 ................\n",
      "[CV]  criterion=gini, max_depth=None, n_estimators=200, score=0.991, total=  23.2s\n",
      "[CV] criterion=gini, max_depth=None, n_estimators=200 ................\n",
      "[CV]  criterion=gini, max_depth=None, n_estimators=200, score=0.990, total=  23.3s\n",
      "[CV] criterion=gini, max_depth=None, n_estimators=200 ................\n",
      "[CV]  criterion=gini, max_depth=None, n_estimators=200, score=0.992, total=  23.3s\n",
      "[CV] criterion=gini, max_depth=None, n_estimators=200 ................\n",
      "[CV]  criterion=gini, max_depth=None, n_estimators=200, score=0.991, total=  22.9s\n",
      "[CV] criterion=gini, max_depth=None, n_estimators=500 ................\n",
      "[CV]  criterion=gini, max_depth=None, n_estimators=500, score=0.992, total=  56.2s\n",
      "[CV] criterion=gini, max_depth=None, n_estimators=500 ................\n",
      "[CV]  criterion=gini, max_depth=None, n_estimators=500, score=0.991, total=  54.9s\n",
      "[CV] criterion=gini, max_depth=None, n_estimators=500 ................\n",
      "[CV]  criterion=gini, max_depth=None, n_estimators=500, score=0.990, total=  54.4s\n",
      "[CV] criterion=gini, max_depth=None, n_estimators=500 ................\n",
      "[CV]  criterion=gini, max_depth=None, n_estimators=500, score=0.992, total=  54.7s\n",
      "[CV] criterion=gini, max_depth=None, n_estimators=500 ................\n",
      "[CV]  criterion=gini, max_depth=None, n_estimators=500, score=0.991, total=  55.0s\n",
      "[CV] criterion=gini, max_depth=None, n_estimators=1000 ...............\n",
      "[CV]  criterion=gini, max_depth=None, n_estimators=1000, score=0.992, total= 1.8min\n",
      "[CV] criterion=gini, max_depth=None, n_estimators=1000 ...............\n",
      "[CV]  criterion=gini, max_depth=None, n_estimators=1000, score=0.991, total= 1.8min\n",
      "[CV] criterion=gini, max_depth=None, n_estimators=1000 ...............\n",
      "[CV]  criterion=gini, max_depth=None, n_estimators=1000, score=0.990, total= 1.8min\n",
      "[CV] criterion=gini, max_depth=None, n_estimators=1000 ...............\n",
      "[CV]  criterion=gini, max_depth=None, n_estimators=1000, score=0.992, total= 1.9min\n",
      "[CV] criterion=gini, max_depth=None, n_estimators=1000 ...............\n",
      "[CV]  criterion=gini, max_depth=None, n_estimators=1000, score=0.991, total= 2.0min\n",
      "[CV] criterion=gini, max_depth=None, n_estimators=2000 ...............\n",
      "[CV]  criterion=gini, max_depth=None, n_estimators=2000, score=0.992, total= 3.9min\n",
      "[CV] criterion=gini, max_depth=None, n_estimators=2000 ...............\n",
      "[CV]  criterion=gini, max_depth=None, n_estimators=2000, score=0.991, total= 3.7min\n",
      "[CV] criterion=gini, max_depth=None, n_estimators=2000 ...............\n",
      "[CV]  criterion=gini, max_depth=None, n_estimators=2000, score=0.990, total= 3.7min\n",
      "[CV] criterion=gini, max_depth=None, n_estimators=2000 ...............\n",
      "[CV]  criterion=gini, max_depth=None, n_estimators=2000, score=0.992, total= 3.7min\n",
      "[CV] criterion=gini, max_depth=None, n_estimators=2000 ...............\n",
      "[CV]  criterion=gini, max_depth=None, n_estimators=2000, score=0.991, total= 3.9min\n",
      "[CV] criterion=gini, max_depth=2, n_estimators=100 ...................\n",
      "[CV]  criterion=gini, max_depth=2, n_estimators=100, score=0.970, total=   2.4s\n",
      "[CV] criterion=gini, max_depth=2, n_estimators=100 ...................\n",
      "[CV]  criterion=gini, max_depth=2, n_estimators=100, score=0.971, total=   2.4s\n",
      "[CV] criterion=gini, max_depth=2, n_estimators=100 ...................\n",
      "[CV]  criterion=gini, max_depth=2, n_estimators=100, score=0.970, total=   2.4s\n",
      "[CV] criterion=gini, max_depth=2, n_estimators=100 ...................\n",
      "[CV]  criterion=gini, max_depth=2, n_estimators=100, score=0.972, total=   2.4s\n",
      "[CV] criterion=gini, max_depth=2, n_estimators=100 ...................\n",
      "[CV]  criterion=gini, max_depth=2, n_estimators=100, score=0.970, total=   2.4s\n",
      "[CV] criterion=gini, max_depth=2, n_estimators=200 ...................\n",
      "[CV]  criterion=gini, max_depth=2, n_estimators=200, score=0.971, total=   4.6s\n",
      "[CV] criterion=gini, max_depth=2, n_estimators=200 ...................\n",
      "[CV]  criterion=gini, max_depth=2, n_estimators=200, score=0.971, total=   4.7s\n",
      "[CV] criterion=gini, max_depth=2, n_estimators=200 ...................\n",
      "[CV]  criterion=gini, max_depth=2, n_estimators=200, score=0.970, total=   4.8s\n",
      "[CV] criterion=gini, max_depth=2, n_estimators=200 ...................\n",
      "[CV]  criterion=gini, max_depth=2, n_estimators=200, score=0.972, total=   4.8s\n",
      "[CV] criterion=gini, max_depth=2, n_estimators=200 ...................\n",
      "[CV]  criterion=gini, max_depth=2, n_estimators=200, score=0.971, total=   4.7s\n",
      "[CV] criterion=gini, max_depth=2, n_estimators=500 ...................\n",
      "[CV]  criterion=gini, max_depth=2, n_estimators=500, score=0.970, total=  11.6s\n",
      "[CV] criterion=gini, max_depth=2, n_estimators=500 ...................\n",
      "[CV]  criterion=gini, max_depth=2, n_estimators=500, score=0.970, total=  12.5s\n",
      "[CV] criterion=gini, max_depth=2, n_estimators=500 ...................\n",
      "[CV]  criterion=gini, max_depth=2, n_estimators=500, score=0.970, total=  12.5s\n",
      "[CV] criterion=gini, max_depth=2, n_estimators=500 ...................\n",
      "[CV]  criterion=gini, max_depth=2, n_estimators=500, score=0.971, total=  12.2s\n",
      "[CV] criterion=gini, max_depth=2, n_estimators=500 ...................\n",
      "[CV]  criterion=gini, max_depth=2, n_estimators=500, score=0.970, total=  12.2s\n",
      "[CV] criterion=gini, max_depth=2, n_estimators=1000 ..................\n",
      "[CV]  criterion=gini, max_depth=2, n_estimators=1000, score=0.971, total=  24.0s\n",
      "[CV] criterion=gini, max_depth=2, n_estimators=1000 ..................\n",
      "[CV]  criterion=gini, max_depth=2, n_estimators=1000, score=0.971, total=  24.4s\n",
      "[CV] criterion=gini, max_depth=2, n_estimators=1000 ..................\n",
      "[CV]  criterion=gini, max_depth=2, n_estimators=1000, score=0.970, total=  24.4s\n",
      "[CV] criterion=gini, max_depth=2, n_estimators=1000 ..................\n",
      "[CV]  criterion=gini, max_depth=2, n_estimators=1000, score=0.972, total=  24.5s\n",
      "[CV] criterion=gini, max_depth=2, n_estimators=1000 ..................\n",
      "[CV]  criterion=gini, max_depth=2, n_estimators=1000, score=0.970, total=  24.3s\n",
      "[CV] criterion=gini, max_depth=2, n_estimators=2000 ..................\n",
      "[CV]  criterion=gini, max_depth=2, n_estimators=2000, score=0.970, total=  48.5s\n",
      "[CV] criterion=gini, max_depth=2, n_estimators=2000 ..................\n",
      "[CV]  criterion=gini, max_depth=2, n_estimators=2000, score=0.971, total=  48.4s\n",
      "[CV] criterion=gini, max_depth=2, n_estimators=2000 ..................\n",
      "[CV]  criterion=gini, max_depth=2, n_estimators=2000, score=0.970, total=  49.4s\n",
      "[CV] criterion=gini, max_depth=2, n_estimators=2000 ..................\n",
      "[CV]  criterion=gini, max_depth=2, n_estimators=2000, score=0.972, total=  50.0s\n",
      "[CV] criterion=gini, max_depth=2, n_estimators=2000 ..................\n",
      "[CV]  criterion=gini, max_depth=2, n_estimators=2000, score=0.970, total=  49.8s\n",
      "[CV] criterion=gini, max_depth=3, n_estimators=100 ...................\n",
      "[CV]  criterion=gini, max_depth=3, n_estimators=100, score=0.971, total=   3.4s\n",
      "[CV] criterion=gini, max_depth=3, n_estimators=100 ...................\n",
      "[CV]  criterion=gini, max_depth=3, n_estimators=100, score=0.972, total=   3.3s\n",
      "[CV] criterion=gini, max_depth=3, n_estimators=100 ...................\n",
      "[CV]  criterion=gini, max_depth=3, n_estimators=100, score=0.972, total=   3.4s\n",
      "[CV] criterion=gini, max_depth=3, n_estimators=100 ...................\n",
      "[CV]  criterion=gini, max_depth=3, n_estimators=100, score=0.973, total=   3.4s\n",
      "[CV] criterion=gini, max_depth=3, n_estimators=100 ...................\n",
      "[CV]  criterion=gini, max_depth=3, n_estimators=100, score=0.972, total=   3.3s\n",
      "[CV] criterion=gini, max_depth=3, n_estimators=200 ...................\n",
      "[CV]  criterion=gini, max_depth=3, n_estimators=200, score=0.973, total=   6.8s\n",
      "[CV] criterion=gini, max_depth=3, n_estimators=200 ...................\n"
     ]
    },
    {
     "name": "stdout",
     "output_type": "stream",
     "text": [
      "[CV]  criterion=gini, max_depth=3, n_estimators=200, score=0.973, total=   7.0s\n",
      "[CV] criterion=gini, max_depth=3, n_estimators=200 ...................\n",
      "[CV]  criterion=gini, max_depth=3, n_estimators=200, score=0.973, total=   6.9s\n",
      "[CV] criterion=gini, max_depth=3, n_estimators=200 ...................\n",
      "[CV]  criterion=gini, max_depth=3, n_estimators=200, score=0.974, total=   6.7s\n",
      "[CV] criterion=gini, max_depth=3, n_estimators=200 ...................\n",
      "[CV]  criterion=gini, max_depth=3, n_estimators=200, score=0.972, total=   6.7s\n",
      "[CV] criterion=gini, max_depth=3, n_estimators=500 ...................\n",
      "[CV]  criterion=gini, max_depth=3, n_estimators=500, score=0.974, total=  16.9s\n",
      "[CV] criterion=gini, max_depth=3, n_estimators=500 ...................\n",
      "[CV]  criterion=gini, max_depth=3, n_estimators=500, score=0.973, total=  16.8s\n",
      "[CV] criterion=gini, max_depth=3, n_estimators=500 ...................\n",
      "[CV]  criterion=gini, max_depth=3, n_estimators=500, score=0.973, total=  16.6s\n",
      "[CV] criterion=gini, max_depth=3, n_estimators=500 ...................\n",
      "[CV]  criterion=gini, max_depth=3, n_estimators=500, score=0.974, total=  17.0s\n",
      "[CV] criterion=gini, max_depth=3, n_estimators=500 ...................\n",
      "[CV]  criterion=gini, max_depth=3, n_estimators=500, score=0.973, total=  16.7s\n",
      "[CV] criterion=gini, max_depth=3, n_estimators=1000 ..................\n",
      "[CV]  criterion=gini, max_depth=3, n_estimators=1000, score=0.973, total=  33.1s\n",
      "[CV] criterion=gini, max_depth=3, n_estimators=1000 ..................\n",
      "[CV]  criterion=gini, max_depth=3, n_estimators=1000, score=0.973, total=  33.5s\n",
      "[CV] criterion=gini, max_depth=3, n_estimators=1000 ..................\n",
      "[CV]  criterion=gini, max_depth=3, n_estimators=1000, score=0.973, total=  33.4s\n",
      "[CV] criterion=gini, max_depth=3, n_estimators=1000 ..................\n",
      "[CV]  criterion=gini, max_depth=3, n_estimators=1000, score=0.974, total=  34.2s\n",
      "[CV] criterion=gini, max_depth=3, n_estimators=1000 ..................\n",
      "[CV]  criterion=gini, max_depth=3, n_estimators=1000, score=0.973, total=  33.7s\n",
      "[CV] criterion=gini, max_depth=3, n_estimators=2000 ..................\n",
      "[CV]  criterion=gini, max_depth=3, n_estimators=2000, score=0.973, total= 1.1min\n",
      "[CV] criterion=gini, max_depth=3, n_estimators=2000 ..................\n",
      "[CV]  criterion=gini, max_depth=3, n_estimators=2000, score=0.973, total= 1.1min\n",
      "[CV] criterion=gini, max_depth=3, n_estimators=2000 ..................\n",
      "[CV]  criterion=gini, max_depth=3, n_estimators=2000, score=0.973, total= 1.1min\n",
      "[CV] criterion=gini, max_depth=3, n_estimators=2000 ..................\n",
      "[CV]  criterion=gini, max_depth=3, n_estimators=2000, score=0.974, total= 1.1min\n",
      "[CV] criterion=gini, max_depth=3, n_estimators=2000 ..................\n",
      "[CV]  criterion=gini, max_depth=3, n_estimators=2000, score=0.973, total= 1.1min\n"
     ]
    },
    {
     "name": "stderr",
     "output_type": "stream",
     "text": [
      "[Parallel(n_jobs=1)]: Done  75 out of  75 | elapsed: 54.1min finished\n"
     ]
    },
    {
     "data": {
      "text/plain": [
       "{'criterion': 'gini', 'max_depth': None, 'n_estimators': 500}"
      ]
     },
     "execution_count": 41,
     "metadata": {},
     "output_type": "execute_result"
    }
   ],
   "source": [
    "from sklearn.model_selection import GridSearchCV\n",
    "\n",
    "grid = {\n",
    "    'criterion': ['gini'],\n",
    "    'max_depth': [None, 2, 3],\n",
    "    'n_estimators': [100, 200, 500, 1000, 2000]\n",
    "}\n",
    "\n",
    "grid_search = GridSearchCV(forest_clf, grid, cv=5, verbose=3)\n",
    "\n",
    "\n",
    "\n",
    "grid_search.fit(x_train_prepared, y_train)\n",
    "grid_search.best_params_"
   ]
  },
  {
   "cell_type": "code",
   "execution_count": 48,
   "metadata": {},
   "outputs": [],
   "source": [
    "hyper_forest = RandomForestClassifier(criterion='gini', max_depth=None, n_estimators=500)"
   ]
  },
  {
   "cell_type": "code",
   "execution_count": 49,
   "metadata": {},
   "outputs": [
    {
     "data": {
      "text/html": [
       "<div>\n",
       "<style scoped>\n",
       "    .dataframe tbody tr th:only-of-type {\n",
       "        vertical-align: middle;\n",
       "    }\n",
       "\n",
       "    .dataframe tbody tr th {\n",
       "        vertical-align: top;\n",
       "    }\n",
       "\n",
       "    .dataframe thead th {\n",
       "        text-align: right;\n",
       "    }\n",
       "</style>\n",
       "<table border=\"1\" class=\"dataframe\">\n",
       "  <thead>\n",
       "    <tr style=\"text-align: right;\">\n",
       "      <th></th>\n",
       "      <th>GALAXY</th>\n",
       "      <th>QSO</th>\n",
       "      <th>STAR</th>\n",
       "    </tr>\n",
       "  </thead>\n",
       "  <tbody>\n",
       "    <tr>\n",
       "      <th>GALAXY</th>\n",
       "      <td>40804</td>\n",
       "      <td>144</td>\n",
       "      <td>83</td>\n",
       "    </tr>\n",
       "    <tr>\n",
       "      <th>QSO</th>\n",
       "      <td>468</td>\n",
       "      <td>8004</td>\n",
       "      <td>6</td>\n",
       "    </tr>\n",
       "    <tr>\n",
       "      <th>STAR</th>\n",
       "      <td>37</td>\n",
       "      <td>0</td>\n",
       "      <td>30454</td>\n",
       "    </tr>\n",
       "  </tbody>\n",
       "</table>\n",
       "</div>"
      ],
      "text/plain": [
       "        GALAXY   QSO   STAR\n",
       "GALAXY   40804   144     83\n",
       "QSO        468  8004      6\n",
       "STAR        37     0  30454"
      ]
     },
     "execution_count": 49,
     "metadata": {},
     "output_type": "execute_result"
    }
   ],
   "source": [
    "y_train_predictions = cross_val_predict(hyper_forest, x_train_prepared, y_train, cv=3)\n",
    "\n",
    "labels = np.unique(y_train)\n",
    "\n",
    "cm = confusion_matrix(y_train, y_train_predictions, labels=labels)\n",
    "pd.DataFrame(cm, index=labels, columns=labels)"
   ]
  },
  {
   "cell_type": "code",
   "execution_count": 50,
   "metadata": {},
   "outputs": [],
   "source": [
    "forrest_df = pd.DataFrame(cm, index=labels, columns=labels)\n",
    "forrest_df.to_csv('forrest_confusion.csv')"
   ]
  },
  {
   "cell_type": "markdown",
   "metadata": {},
   "source": [
    "# Ensemble"
   ]
  },
  {
   "cell_type": "code",
   "execution_count": 35,
   "metadata": {},
   "outputs": [],
   "source": [
    "from sklearn.ensemble import VotingClassifier\n",
    "\n",
    "\n",
    "voting_clf = VotingClassifier(\n",
    "estimators=[('sgd', sgd_classifier), ('lr', log_reg), ('svm', poly_kernel_svm_clf), ('rf', forest_clf)],\n",
    "    voting='soft'\n",
    ")\n"
   ]
  },
  {
   "cell_type": "code",
   "execution_count": 36,
   "metadata": {},
   "outputs": [
    {
     "data": {
      "text/plain": [
       "VotingClassifier(estimators=[('sgd',\n",
       "                              SGDClassifier(loss='log', random_state=42)),\n",
       "                             ('lr', LogisticRegression(multi_class='ovr')),\n",
       "                             ('svm',\n",
       "                              Pipeline(steps=[('svm_clf',\n",
       "                                               SVC(C=5, coef0=1, kernel='poly',\n",
       "                                                   probability=True))])),\n",
       "                             ('rf', RandomForestClassifier(random_state=42))],\n",
       "                 voting='soft')"
      ]
     },
     "execution_count": 36,
     "metadata": {},
     "output_type": "execute_result"
    }
   ],
   "source": [
    "voting_clf.fit(x_train_prepared, y_train)"
   ]
  },
  {
   "cell_type": "code",
   "execution_count": 37,
   "metadata": {},
   "outputs": [
    {
     "data": {
      "text/html": [
       "<div>\n",
       "<style scoped>\n",
       "    .dataframe tbody tr th:only-of-type {\n",
       "        vertical-align: middle;\n",
       "    }\n",
       "\n",
       "    .dataframe tbody tr th {\n",
       "        vertical-align: top;\n",
       "    }\n",
       "\n",
       "    .dataframe thead th {\n",
       "        text-align: right;\n",
       "    }\n",
       "</style>\n",
       "<table border=\"1\" class=\"dataframe\">\n",
       "  <thead>\n",
       "    <tr style=\"text-align: right;\">\n",
       "      <th></th>\n",
       "      <th>GALAXY</th>\n",
       "      <th>QSO</th>\n",
       "      <th>STAR</th>\n",
       "    </tr>\n",
       "  </thead>\n",
       "  <tbody>\n",
       "    <tr>\n",
       "      <th>GALAXY</th>\n",
       "      <td>40240</td>\n",
       "      <td>117</td>\n",
       "      <td>674</td>\n",
       "    </tr>\n",
       "    <tr>\n",
       "      <th>QSO</th>\n",
       "      <td>577</td>\n",
       "      <td>7893</td>\n",
       "      <td>8</td>\n",
       "    </tr>\n",
       "    <tr>\n",
       "      <th>STAR</th>\n",
       "      <td>15</td>\n",
       "      <td>1</td>\n",
       "      <td>30475</td>\n",
       "    </tr>\n",
       "  </tbody>\n",
       "</table>\n",
       "</div>"
      ],
      "text/plain": [
       "        GALAXY   QSO   STAR\n",
       "GALAXY   40240   117    674\n",
       "QSO        577  7893      8\n",
       "STAR        15     1  30475"
      ]
     },
     "execution_count": 37,
     "metadata": {},
     "output_type": "execute_result"
    }
   ],
   "source": [
    "y_train_predictions = cross_val_predict(voting_clf, x_train_prepared, y_train, cv=3)\n",
    "\n",
    "labels = np.unique(y_train)\n",
    "\n",
    "cm = confusion_matrix(y_train, y_train_predictions, labels=labels)\n",
    "pd.DataFrame(cm, index=labels, columns=labels)"
   ]
  },
  {
   "cell_type": "code",
   "execution_count": 38,
   "metadata": {},
   "outputs": [
    {
     "ename": "NameError",
     "evalue": "name 'stoop' is not defined",
     "output_type": "error",
     "traceback": [
      "\u001b[1;31m---------------------------------------------------------------------------\u001b[0m",
      "\u001b[1;31mNameError\u001b[0m                                 Traceback (most recent call last)",
      "\u001b[1;32m<ipython-input-38-5279516d84da>\u001b[0m in \u001b[0;36m<module>\u001b[1;34m\u001b[0m\n\u001b[1;32m----> 1\u001b[1;33m \u001b[0mstoop\u001b[0m\u001b[1;33m\u001b[0m\u001b[1;33m\u001b[0m\u001b[0m\n\u001b[0m",
      "\u001b[1;31mNameError\u001b[0m: name 'stoop' is not defined"
     ]
    }
   ],
   "source": [
    "stoop"
   ]
  },
  {
   "cell_type": "markdown",
   "metadata": {},
   "source": [
    "# Using The Test Data"
   ]
  },
  {
   "cell_type": "code",
   "execution_count": null,
   "metadata": {},
   "outputs": [],
   "source": [
    "# Testing the Test data \n",
    "x_test = strat_test_set.drop(\"class\", axis=1)\n",
    "x_test_scaled = StandardScaler().fit_transform(x_test)\n",
    "y_test = strat_test_set[\"class\"]"
   ]
  },
  {
   "cell_type": "code",
   "execution_count": null,
   "metadata": {},
   "outputs": [],
   "source": [
    "predictions = forest_clf.predict(x_test_scaled)"
   ]
  },
  {
   "cell_type": "code",
   "execution_count": null,
   "metadata": {},
   "outputs": [],
   "source": [
    "predictions = cat_encoder.inverse_transform(predictions)"
   ]
  },
  {
   "cell_type": "code",
   "execution_count": null,
   "metadata": {},
   "outputs": [],
   "source": [
    "print(f\"First 10 Predictions:   {predictions[:10]}\")\n",
    "print(f\"First 10 Actual labels: {y_test[:10].tolist()}\")"
   ]
  },
  {
   "cell_type": "code",
   "execution_count": null,
   "metadata": {},
   "outputs": [],
   "source": [
    "check_df = pd.DataFrame({\"Prediction\": predictions, \"Actual\": y_test}).reset_index(drop=True)\n",
    "check_df.head(60)"
   ]
  },
  {
   "cell_type": "code",
   "execution_count": null,
   "metadata": {},
   "outputs": [],
   "source": [
    "f1_score(y_test, predictions, average='micro')"
   ]
  }
 ],
 "metadata": {
  "kernelspec": {
   "display_name": "Python 3",
   "language": "python",
   "name": "python3"
  },
  "language_info": {
   "codemirror_mode": {
    "name": "ipython",
    "version": 3
   },
   "file_extension": ".py",
   "mimetype": "text/x-python",
   "name": "python",
   "nbconvert_exporter": "python",
   "pygments_lexer": "ipython3",
   "version": "3.7.9"
  }
 },
 "nbformat": 4,
 "nbformat_minor": 4
}
